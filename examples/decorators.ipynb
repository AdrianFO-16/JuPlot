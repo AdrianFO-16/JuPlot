{
 "cells": [
  {
   "cell_type": "code",
   "execution_count": 63,
   "metadata": {},
   "outputs": [
    {
     "name": "stdout",
     "output_type": "stream",
     "text": [
      "Decorating A Type: 1\n",
      "Decorating B Type: True\n"
     ]
    }
   ],
   "source": [
    "import functools\n",
    "\n",
    "def decorator_maker(tp):\n",
    "    \"\"\"\n",
    "    Decorator Maker\n",
    "    \"\"\"\n",
    "    def decorator(func):\n",
    "        \"\"\"\n",
    "        Decorator Pitero\n",
    "        \"\"\"\n",
    "        print(\"Decorating\", func.__name__, \"Type:\", tp)\n",
    "        @functools.wraps(func)\n",
    "        def wrapper():\n",
    "            func()\n",
    "        return wrapper\n",
    "    return decorator\n",
    "\n",
    "@decorator_maker(1)\n",
    "def A():\n",
    "    \"Función pitera para ver decorators\"\n",
    "    print(1)\n",
    "\n",
    "@decorator_maker(True)\n",
    "def B():\n",
    "    \"Función pitera para ver decorators\"\n",
    "    print(100)\n"
   ]
  },
  {
   "cell_type": "code",
   "execution_count": 64,
   "metadata": {},
   "outputs": [
    {
     "name": "stdout",
     "output_type": "stream",
     "text": [
      "1\n",
      "100\n"
     ]
    }
   ],
   "source": [
    "A()\n",
    "B()"
   ]
  },
  {
   "cell_type": "code",
   "execution_count": null,
   "metadata": {},
   "outputs": [],
   "source": []
  }
 ],
 "metadata": {
  "kernelspec": {
   "display_name": "base",
   "language": "python",
   "name": "python3"
  },
  "language_info": {
   "codemirror_mode": {
    "name": "ipython",
    "version": 3
   },
   "file_extension": ".py",
   "mimetype": "text/x-python",
   "name": "python",
   "nbconvert_exporter": "python",
   "pygments_lexer": "ipython3",
   "version": "3.10.9"
  },
  "orig_nbformat": 4
 },
 "nbformat": 4,
 "nbformat_minor": 2
}
